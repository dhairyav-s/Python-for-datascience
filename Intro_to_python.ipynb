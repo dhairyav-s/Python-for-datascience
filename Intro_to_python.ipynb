{
  "nbformat": 4,
  "nbformat_minor": 0,
  "metadata": {
    "colab": {
      "name": "Intro_to_python.ipynb",
      "provenance": [],
      "authorship_tag": "ABX9TyMR3NNFDp112hTBz9O/Hblf",
      "include_colab_link": true
    },
    "kernelspec": {
      "name": "python3",
      "display_name": "Python 3"
    }
  },
  "cells": [
    {
      "cell_type": "markdown",
      "metadata": {
        "id": "view-in-github",
        "colab_type": "text"
      },
      "source": [
        "<a href=\"https://colab.research.google.com/github/dhairyav-s/Python-for-datascience/blob/master/Intro_to_python.ipynb\" target=\"_parent\"><img src=\"https://colab.research.google.com/assets/colab-badge.svg\" alt=\"Open In Colab\"/></a>"
      ]
    },
    {
      "cell_type": "markdown",
      "metadata": {
        "id": "z4f_P2R6LuiY",
        "colab_type": "text"
      },
      "source": [
        "Trail Project"
      ]
    },
    {
      "cell_type": "code",
      "metadata": {
        "id": "sD4AERuyNQD_",
        "colab_type": "code",
        "colab": {}
      },
      "source": [
        "name = \"Dhairyav\" \n",
        "#form of string"
      ],
      "execution_count": 0,
      "outputs": []
    },
    {
      "cell_type": "code",
      "metadata": {
        "id": "o20FiyX4Nh3I",
        "colab_type": "code",
        "colab": {
          "base_uri": "https://localhost:8080/",
          "height": 34
        },
        "outputId": "a3fe297e-795b-46ce-85e9-cff64be86c64"
      },
      "source": [
        "name "
      ],
      "execution_count": 8,
      "outputs": [
        {
          "output_type": "execute_result",
          "data": {
            "text/plain": [
              "'Dhairyav'"
            ]
          },
          "metadata": {
            "tags": []
          },
          "execution_count": 8
        }
      ]
    },
    {
      "cell_type": "code",
      "metadata": {
        "id": "_xDyrmu0PDLh",
        "colab_type": "code",
        "colab": {}
      },
      "source": [
        "age = 21\n",
        "#form of int/number"
      ],
      "execution_count": 0,
      "outputs": []
    },
    {
      "cell_type": "code",
      "metadata": {
        "id": "HI_ZcqguRNHs",
        "colab_type": "code",
        "colab": {
          "base_uri": "https://localhost:8080/",
          "height": 34
        },
        "outputId": "c88df2d5-fded-4c81-9aad-0202c875e140"
      },
      "source": [
        "age"
      ],
      "execution_count": 13,
      "outputs": [
        {
          "output_type": "execute_result",
          "data": {
            "text/plain": [
              "21"
            ]
          },
          "metadata": {
            "tags": []
          },
          "execution_count": 13
        }
      ]
    },
    {
      "cell_type": "code",
      "metadata": {
        "id": "bUeordhZROPZ",
        "colab_type": "code",
        "colab": {
          "base_uri": "https://localhost:8080/",
          "height": 51
        },
        "outputId": "97d239db-e287-4f08-b087-2d7ed40b1ad7"
      },
      "source": [
        "#print multiple variables\n",
        "print(name)\n",
        "print(age)"
      ],
      "execution_count": 14,
      "outputs": [
        {
          "output_type": "stream",
          "text": [
            "Dhairyav\n",
            "21\n"
          ],
          "name": "stdout"
        }
      ]
    },
    {
      "cell_type": "code",
      "metadata": {
        "id": "RZtdUbw6SOYn",
        "colab_type": "code",
        "colab": {}
      },
      "source": [
        "#Boolean variables\n",
        "\n",
        "male = True  \n",
        "female = False"
      ],
      "execution_count": 0,
      "outputs": []
    },
    {
      "cell_type": "code",
      "metadata": {
        "id": "iqO-gSBjTaCt",
        "colab_type": "code",
        "colab": {
          "base_uri": "https://localhost:8080/",
          "height": 51
        },
        "outputId": "f3cad842-e884-4695-92a5-3d443bc46c2e"
      },
      "source": [
        "print (female)\n",
        "print (male)"
      ],
      "execution_count": 19,
      "outputs": [
        {
          "output_type": "stream",
          "text": [
            "False\n",
            "True\n"
          ],
          "name": "stdout"
        }
      ]
    },
    {
      "cell_type": "code",
      "metadata": {
        "id": "qIsuj1i8TbXH",
        "colab_type": "code",
        "colab": {}
      },
      "source": [
        "#floating numbers \n",
        "percentage = 85.00\n"
      ],
      "execution_count": 0,
      "outputs": []
    },
    {
      "cell_type": "code",
      "metadata": {
        "id": "8EUq1mpuUKWJ",
        "colab_type": "code",
        "colab": {
          "base_uri": "https://localhost:8080/",
          "height": 34
        },
        "outputId": "f703bde5-6dd5-4024-e171-7677268e1f24"
      },
      "source": [
        "percentage"
      ],
      "execution_count": 21,
      "outputs": [
        {
          "output_type": "execute_result",
          "data": {
            "text/plain": [
              "85.0"
            ]
          },
          "metadata": {
            "tags": []
          },
          "execution_count": 21
        }
      ]
    },
    {
      "cell_type": "code",
      "metadata": {
        "id": "HSJX-XMpUMc_",
        "colab_type": "code",
        "colab": {}
      },
      "source": [
        "#python lst (defining group of variables/values)\n",
        "marks = [85.00, 75.00, 60.00, \"dhairyav\", male]"
      ],
      "execution_count": 0,
      "outputs": []
    },
    {
      "cell_type": "code",
      "metadata": {
        "id": "PC8L0zclero4",
        "colab_type": "code",
        "colab": {
          "base_uri": "https://localhost:8080/",
          "height": 34
        },
        "outputId": "a1a882a4-8214-426a-dc11-aae421d9b6fa"
      },
      "source": [
        "#print the lenght\n",
        "len(marks)"
      ],
      "execution_count": 66,
      "outputs": [
        {
          "output_type": "execute_result",
          "data": {
            "text/plain": [
              "5"
            ]
          },
          "metadata": {
            "tags": []
          },
          "execution_count": 66
        }
      ]
    },
    {
      "cell_type": "code",
      "metadata": {
        "id": "5zgdyodCVIHT",
        "colab_type": "code",
        "colab": {
          "base_uri": "https://localhost:8080/",
          "height": 34
        },
        "outputId": "98ef0c8c-6816-47a8-ecba-793c204a8882"
      },
      "source": [
        "\n",
        "marks"
      ],
      "execution_count": 67,
      "outputs": [
        {
          "output_type": "execute_result",
          "data": {
            "text/plain": [
              "[85.0, 75.0, 60.0, 'dhairyav', True]"
            ]
          },
          "metadata": {
            "tags": []
          },
          "execution_count": 67
        }
      ]
    },
    {
      "cell_type": "code",
      "metadata": {
        "id": "orDm6kvhVMdY",
        "colab_type": "code",
        "colab": {
          "base_uri": "https://localhost:8080/",
          "height": 34
        },
        "outputId": "709afcf4-f365-4557-d36c-7c2d6ae8b18f"
      },
      "source": [
        "marks[3]"
      ],
      "execution_count": 68,
      "outputs": [
        {
          "output_type": "execute_result",
          "data": {
            "text/plain": [
              "'dhairyav'"
            ]
          },
          "metadata": {
            "tags": []
          },
          "execution_count": 68
        }
      ]
    },
    {
      "cell_type": "code",
      "metadata": {
        "id": "r2C1ntZVWKlh",
        "colab_type": "code",
        "colab": {}
      },
      "source": [
        "#dictionary\n",
        "education = {'SSC' : 85.0, 'HSC': 75.00, 'UG': 60.00, 'Name': 'Dhairyav', 'Male': True}"
      ],
      "execution_count": 0,
      "outputs": []
    },
    {
      "cell_type": "code",
      "metadata": {
        "id": "89uEPTQfXV7i",
        "colab_type": "code",
        "colab": {
          "base_uri": "https://localhost:8080/",
          "height": 34
        },
        "outputId": "ff4cc3fb-59a4-4468-bc42-b800b18d5df5"
      },
      "source": [
        " education"
      ],
      "execution_count": 70,
      "outputs": [
        {
          "output_type": "execute_result",
          "data": {
            "text/plain": [
              "{'HSC': 75.0, 'Male': True, 'Name': 'Dhairyav', 'SSC': 85.0, 'UG': 60.0}"
            ]
          },
          "metadata": {
            "tags": []
          },
          "execution_count": 70
        }
      ]
    },
    {
      "cell_type": "code",
      "metadata": {
        "id": "ghRespmYYQPu",
        "colab_type": "code",
        "colab": {
          "base_uri": "https://localhost:8080/",
          "height": 34
        },
        "outputId": "44631bbb-dd7c-4546-f51e-2956c496c2d2"
      },
      "source": [
        "#selecting an item from the dictionary\n",
        "education['SSC']"
      ],
      "execution_count": 71,
      "outputs": [
        {
          "output_type": "execute_result",
          "data": {
            "text/plain": [
              "85.0"
            ]
          },
          "metadata": {
            "tags": []
          },
          "execution_count": 71
        }
      ]
    },
    {
      "cell_type": "code",
      "metadata": {
        "id": "AtlOg_bFZfnC",
        "colab_type": "code",
        "colab": {
          "base_uri": "https://localhost:8080/",
          "height": 34
        },
        "outputId": "25a957db-36a6-43d8-e4dd-c1df885d8525"
      },
      "source": [
        "#print the keys\n",
        "education.keys()\n"
      ],
      "execution_count": 72,
      "outputs": [
        {
          "output_type": "execute_result",
          "data": {
            "text/plain": [
              "dict_keys(['SSC', 'HSC', 'UG', 'Name', 'Male'])"
            ]
          },
          "metadata": {
            "tags": []
          },
          "execution_count": 72
        }
      ]
    },
    {
      "cell_type": "code",
      "metadata": {
        "id": "9Id0qvyfZ2eu",
        "colab_type": "code",
        "colab": {
          "base_uri": "https://localhost:8080/",
          "height": 34
        },
        "outputId": "d6dc07ed-01ff-4eb7-ede9-059cae751f3c"
      },
      "source": [
        "#print the values\n",
        "education.values()"
      ],
      "execution_count": 73,
      "outputs": [
        {
          "output_type": "execute_result",
          "data": {
            "text/plain": [
              "dict_values([85.0, 75.0, 60.0, 'Dhairyav', True])"
            ]
          },
          "metadata": {
            "tags": []
          },
          "execution_count": 73
        }
      ]
    },
    {
      "cell_type": "code",
      "metadata": {
        "id": "5gc9Gry0aW3i",
        "colab_type": "code",
        "colab": {}
      },
      "source": [
        "#make a dictionary with containig a list of marks of 3 students\n",
        "students = {'st1' : [88,91,75], \n",
        "            'st2' : [98,78,85],\n",
        "            'st3': [65,54,84]}"
      ],
      "execution_count": 0,
      "outputs": []
    },
    {
      "cell_type": "code",
      "metadata": {
        "id": "ArcjEXT7cuNn",
        "colab_type": "code",
        "colab": {
          "base_uri": "https://localhost:8080/",
          "height": 51
        },
        "outputId": "b9a09185-98d1-4ca0-8af0-163dbbd7302b"
      },
      "source": [
        "#print the marks for st2 (only graduation)\n",
        "print (students ['st2'][2])\n",
        "print(students ['st3'][-1])"
      ],
      "execution_count": 75,
      "outputs": [
        {
          "output_type": "stream",
          "text": [
            "85\n",
            "84\n"
          ],
          "name": "stdout"
        }
      ]
    },
    {
      "cell_type": "code",
      "metadata": {
        "id": "JJGyGsb3bUIb",
        "colab_type": "code",
        "colab": {
          "base_uri": "https://localhost:8080/",
          "height": 34
        },
        "outputId": "6ba393f2-ccbd-48aa-ab69-2571db17efe1"
      },
      "source": [
        "\n",
        "students"
      ],
      "execution_count": 76,
      "outputs": [
        {
          "output_type": "execute_result",
          "data": {
            "text/plain": [
              "{'st1': [88, 91, 75], 'st2': [98, 78, 85], 'st3': [65, 54, 84]}"
            ]
          },
          "metadata": {
            "tags": []
          },
          "execution_count": 76
        }
      ]
    },
    {
      "cell_type": "code",
      "metadata": {
        "id": "y8IIDNPMbXM2",
        "colab_type": "code",
        "colab": {}
      },
      "source": [
        "#making a list containing a dictionary\n",
        "friends = {'name' : \"Dhairyav\", 'Age' : 21}, {'name' : \"Rahul\", 'Age' : 29}"
      ],
      "execution_count": 0,
      "outputs": []
    },
    {
      "cell_type": "code",
      "metadata": {
        "id": "tikCg60Wb5iR",
        "colab_type": "code",
        "colab": {
          "base_uri": "https://localhost:8080/",
          "height": 34
        },
        "outputId": "e0adb84e-0b84-472f-e145-ad1b4c599d6a"
      },
      "source": [
        "friends \n"
      ],
      "execution_count": 78,
      "outputs": [
        {
          "output_type": "execute_result",
          "data": {
            "text/plain": [
              "({'Age': 21, 'name': 'Dhairyav'}, {'Age': 29, 'name': 'Rahul'})"
            ]
          },
          "metadata": {
            "tags": []
          },
          "execution_count": 78
        }
      ]
    },
    {
      "cell_type": "code",
      "metadata": {
        "id": "X_2L1WTXcHnN",
        "colab_type": "code",
        "colab": {
          "base_uri": "https://localhost:8080/",
          "height": 34
        },
        "outputId": "58711b9f-9bc4-4ab5-9fa1-a3ceba747a14"
      },
      "source": [
        "#find of the type of variable\n",
        "\n",
        "type(marks)"
      ],
      "execution_count": 80,
      "outputs": [
        {
          "output_type": "execute_result",
          "data": {
            "text/plain": [
              "list"
            ]
          },
          "metadata": {
            "tags": []
          },
          "execution_count": 80
        }
      ]
    },
    {
      "cell_type": "code",
      "metadata": {
        "id": "tmTbGkQfiIPY",
        "colab_type": "code",
        "colab": {
          "base_uri": "https://localhost:8080/",
          "height": 34
        },
        "outputId": "f5e7cf0f-9ef1-40fe-cff4-8b7e52313571"
      },
      "source": [
        "#create a list with names of 3 friends and print then add the fourth \n",
        "my_friends = ['rahul','darshan','dhaiyrav']\n",
        "\n",
        "my_friends"
      ],
      "execution_count": 85,
      "outputs": [
        {
          "output_type": "execute_result",
          "data": {
            "text/plain": [
              "['rahul', 'darshan', 'dhaiyrav']"
            ]
          },
          "metadata": {
            "tags": []
          },
          "execution_count": 85
        }
      ]
    },
    {
      "cell_type": "code",
      "metadata": {
        "id": "xzU51cU8jNBh",
        "colab_type": "code",
        "colab": {
          "base_uri": "https://localhost:8080/",
          "height": 170
        },
        "outputId": "3913efc7-2096-45bd-b623-c9f993c1a4ba"
      },
      "source": [
        "my_friends.append('yash')\n",
        "my_friends\n"
      ],
      "execution_count": 91,
      "outputs": [
        {
          "output_type": "execute_result",
          "data": {
            "text/plain": [
              "['rahul',\n",
              " 'darshan',\n",
              " 'dhaiyrav',\n",
              " 'yash',\n",
              " 'yash',\n",
              " 'yash',\n",
              " 'yash',\n",
              " 'yash',\n",
              " 'yash']"
            ]
          },
          "metadata": {
            "tags": []
          },
          "execution_count": 91
        }
      ]
    },
    {
      "cell_type": "code",
      "metadata": {
        "id": "vn-_cUSGju4R",
        "colab_type": "code",
        "colab": {
          "base_uri": "https://localhost:8080/",
          "height": 34
        },
        "outputId": "a7d17092-4d21-407a-e13f-2ec4584599c9"
      },
      "source": [
        "my_friends.remove('yash')\n",
        "my_friends"
      ],
      "execution_count": 97,
      "outputs": [
        {
          "output_type": "execute_result",
          "data": {
            "text/plain": [
              "['rahul', 'darshan', 'dhaiyrav', 'yash']"
            ]
          },
          "metadata": {
            "tags": []
          },
          "execution_count": 97
        }
      ]
    },
    {
      "cell_type": "code",
      "metadata": {
        "id": "7OReHgCXkNol",
        "colab_type": "code",
        "colab": {
          "base_uri": "https://localhost:8080/",
          "height": 34
        },
        "outputId": "344c3ea8-400e-487f-e275-c1fcd9c1bd91"
      },
      "source": [
        "my_friends[0] = 'bhavya'\n",
        "my_friends"
      ],
      "execution_count": 98,
      "outputs": [
        {
          "output_type": "execute_result",
          "data": {
            "text/plain": [
              "['bhavya', 'darshan', 'dhaiyrav', 'yash']"
            ]
          },
          "metadata": {
            "tags": []
          },
          "execution_count": 98
        }
      ]
    },
    {
      "cell_type": "code",
      "metadata": {
        "id": "x0EYGGxQk9By",
        "colab_type": "code",
        "colab": {}
      },
      "source": [
        ""
      ],
      "execution_count": 0,
      "outputs": []
    }
  ]
}